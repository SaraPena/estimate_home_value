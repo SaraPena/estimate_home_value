{
 "cells": [
  {
   "cell_type": "code",
   "execution_count": 1,
   "metadata": {},
   "outputs": [],
   "source": [
    "import pandas as pd\n",
    "import numpy as np\n",
    "from scipy.stats import norm, ttest_ind, pearsonr\n",
    "import matplotlib.pyplot as plt\n",
    "%matplotlib inline\n",
    "import seaborn as sns\n",
    "sns.set_style('whitegrid')\n",
    "\n",
    "from sklearn.model_selection import train_test_split\n",
    "from sklearn.preprocessing import RobustScaler\n",
    "from sklearn.metrics import mean_squared_error, r2_score, explained_variance_score\n",
    "from sklearn.linear_model import LinearRegression\n",
    "from sklearn.feature_selection import RFE\n",
    "from math import sqrt\n",
    "import warnings\n",
    "warnings.filterwarnings(\"ignore\")\n",
    "import statsmodels.api as sm\n",
    "\n",
    "\n",
    "import env\n",
    "import acquire\n",
    "import prep\n",
    "import split_scale\n",
    "import features\n",
    "import model"
   ]
  },
  {
   "cell_type": "markdown",
   "metadata": {},
   "source": [
    " \n",
    "Deliverables:\n",
    "\n",
    "1. A report (in for the form of a presentaion, both verbal and through slide)\n",
    "\n",
    "Summarize your findings about the drivers of the Tax Value Count.\n",
    "This will come from the analysis you do during the exploration phase of the pipeline.\n",
    "In the report you will have charts that visually tell the story of what is driving the errors.\n",
    "\n",
    "2. A github repository containing the jupyter notebook that walks through the pipeline along with the .py files necessary to reproduce your model.\n",
    "\n"
   ]
  },
  {
   "cell_type": "markdown",
   "metadata": {},
   "source": [
    "\n",
    "Zillow Data Science Team Project Directive: \n",
    "Find qualities of properties that strongly influence the value of a home. Create a model that could be used to begin to predict a value of a home before an assesment is submitted. \n",
    "The data science team wants your model to have 95% a confidence interval. \n",
    "\n",
    "Which independent variables do you think influence the value of a home?\n",
    "\n",
    "Hypothesis:\n",
    "\n",
    "Variables that can influence the value of home are square feet,  and room count(bedroom, and bath). \n",
    "These two variables can have an influence no matter where the property located.\n",
    "\n",
    "The more square feet of a property the more the value of the home will rise.\n",
    "The higher the room count the cost will increase.\n",
    "The total square footage of the property will be a stronger influence than room count\n",
    "\n",
    "When you start to get into specific locations other factors can influence the value of a home such as zip code, school district, distance to destinations (work, home, restaurants, grocery).\n",
    "Also home amenities will influence the value of a property, such as backyards with pools, garage size, hoa.\n",
    "The age of home would also have influence.\n",
    "\n",
    "To begin our modeling we will look at the features of squarefootage and room count to see how these will influence the target variable - value of the property. Further exploration of other property, and location specific features can be explored after this first phase is built."
   ]
  },
  {
   "cell_type": "markdown",
   "metadata": {},
   "source": [
    "\n",
    "***ACQUIRE***\n",
    "\n",
    "Goal: Gather and describe data from zillow dataset that creates a dataframe with:\n",
    "    Index : \n",
    "        parcelid,fips \n",
    "    Features:\n",
    "        calculatedfinishedsquarefeet\n",
    "        bathroomcnt\n",
    "        bedroomcnt\n",
    "        lotsizesquarefeet\n",
    "\n",
    "Include head of the dataset, datatypes, summary stats, shape of the dataframe.\n",
    "\n"
   ]
  },
  {
   "cell_type": "code",
   "execution_count": 2,
   "metadata": {},
   "outputs": [],
   "source": [
    "# get url for zillow database using your env file. Your env file should include variables that are assigned to your username, password, and host for mysql.\n",
    "\n",
    "url = acquire.get_db_url('zillow')\n"
   ]
  },
  {
   "cell_type": "code",
   "execution_count": 3,
   "metadata": {},
   "outputs": [],
   "source": [
    "# Create dataframe for your features and target variable using your query, and url variable.\n",
    "# The features I was interested in exploring were bathroomcnt, bedroomcnt, calculatedfinishedsquarefeet, and lotsizesquarefeet. The target variable I want to predict is taxvaluedollarcnt\n",
    "\n",
    "query = \"\"\" SELECT parcelid,\n",
    "                   fips,\n",
    "                   bathroomcnt, \n",
    "                   bedroomcnt, \n",
    "                   calculatedfinishedsquarefeet, \n",
    "                   lotsizesquarefeet,\n",
    "                   taxvaluedollarcnt\n",
    "            FROM properties_2017\n",
    "            JOIN predictions_2017 using(parcelid)\n",
    "            WHERE (propertylandusetypeid = 261) and (transactiondate BETWEEN '2017-05-01' and '2017-06-30') \"\"\"\n",
    "# From the acuire.py create your dataframe with get_data_from_mysql(query,db)\n",
    "\n",
    "df = acquire.get_data_from_mysql(query,'zillow')\n"
   ]
  },
  {
   "cell_type": "code",
   "execution_count": 4,
   "metadata": {},
   "outputs": [
    {
     "data": {
      "text/html": [
       "<div>\n",
       "<style scoped>\n",
       "    .dataframe tbody tr th:only-of-type {\n",
       "        vertical-align: middle;\n",
       "    }\n",
       "\n",
       "    .dataframe tbody tr th {\n",
       "        vertical-align: top;\n",
       "    }\n",
       "\n",
       "    .dataframe thead th {\n",
       "        text-align: right;\n",
       "    }\n",
       "</style>\n",
       "<table border=\"1\" class=\"dataframe\">\n",
       "  <thead>\n",
       "    <tr style=\"text-align: right;\">\n",
       "      <th></th>\n",
       "      <th>parcelid</th>\n",
       "      <th>fips</th>\n",
       "      <th>bathroomcnt</th>\n",
       "      <th>bedroomcnt</th>\n",
       "      <th>calculatedfinishedsquarefeet</th>\n",
       "      <th>lotsizesquarefeet</th>\n",
       "      <th>taxvaluedollarcnt</th>\n",
       "    </tr>\n",
       "  </thead>\n",
       "  <tbody>\n",
       "    <tr>\n",
       "      <th>0</th>\n",
       "      <td>11289917</td>\n",
       "      <td>6037.0</td>\n",
       "      <td>2.0</td>\n",
       "      <td>3.0</td>\n",
       "      <td>1458.0</td>\n",
       "      <td>8284.0</td>\n",
       "      <td>136104.0</td>\n",
       "    </tr>\n",
       "    <tr>\n",
       "      <th>1</th>\n",
       "      <td>11705026</td>\n",
       "      <td>6037.0</td>\n",
       "      <td>1.0</td>\n",
       "      <td>2.0</td>\n",
       "      <td>1421.0</td>\n",
       "      <td>6707.0</td>\n",
       "      <td>35606.0</td>\n",
       "    </tr>\n",
       "    <tr>\n",
       "      <th>2</th>\n",
       "      <td>14269464</td>\n",
       "      <td>6059.0</td>\n",
       "      <td>3.0</td>\n",
       "      <td>4.0</td>\n",
       "      <td>2541.0</td>\n",
       "      <td>4975.0</td>\n",
       "      <td>880456.0</td>\n",
       "    </tr>\n",
       "    <tr>\n",
       "      <th>3</th>\n",
       "      <td>11389003</td>\n",
       "      <td>6037.0</td>\n",
       "      <td>2.0</td>\n",
       "      <td>3.0</td>\n",
       "      <td>1650.0</td>\n",
       "      <td>7300.0</td>\n",
       "      <td>614000.0</td>\n",
       "    </tr>\n",
       "    <tr>\n",
       "      <th>4</th>\n",
       "      <td>11967869</td>\n",
       "      <td>6037.0</td>\n",
       "      <td>1.0</td>\n",
       "      <td>2.0</td>\n",
       "      <td>693.0</td>\n",
       "      <td>2908.0</td>\n",
       "      <td>274237.0</td>\n",
       "    </tr>\n",
       "  </tbody>\n",
       "</table>\n",
       "</div>"
      ],
      "text/plain": [
       "   parcelid    fips  bathroomcnt  bedroomcnt  calculatedfinishedsquarefeet  \\\n",
       "0  11289917  6037.0          2.0         3.0                        1458.0   \n",
       "1  11705026  6037.0          1.0         2.0                        1421.0   \n",
       "2  14269464  6059.0          3.0         4.0                        2541.0   \n",
       "3  11389003  6037.0          2.0         3.0                        1650.0   \n",
       "4  11967869  6037.0          1.0         2.0                         693.0   \n",
       "\n",
       "   lotsizesquarefeet  taxvaluedollarcnt  \n",
       "0             8284.0           136104.0  \n",
       "1             6707.0            35606.0  \n",
       "2             4975.0           880456.0  \n",
       "3             7300.0           614000.0  \n",
       "4             2908.0           274237.0  "
      ]
     },
     "execution_count": 4,
     "metadata": {},
     "output_type": "execute_result"
    }
   ],
   "source": [
    "# Head of dataframe\n",
    "\n",
    "df.head()\n"
   ]
  },
  {
   "cell_type": "code",
   "execution_count": 5,
   "metadata": {},
   "outputs": [
    {
     "data": {
      "text/plain": [
       "parcelid                          int64\n",
       "fips                            float64\n",
       "bathroomcnt                     float64\n",
       "bedroomcnt                      float64\n",
       "calculatedfinishedsquarefeet    float64\n",
       "lotsizesquarefeet               float64\n",
       "taxvaluedollarcnt               float64\n",
       "dtype: object"
      ]
     },
     "execution_count": 5,
     "metadata": {},
     "output_type": "execute_result"
    }
   ],
   "source": [
    "# data types of dataframe:\n",
    "\n",
    "df.dtypes\n"
   ]
  },
  {
   "cell_type": "markdown",
   "metadata": {},
   "source": [
    "All of our data types are floats or integers which are types that we can measure and quatify. There is not a need at this point to convert the features to another data type.\n"
   ]
  },
  {
   "cell_type": "code",
   "execution_count": 6,
   "metadata": {},
   "outputs": [],
   "source": [
    "# inital summary stats:\n",
    "\n",
    "initial_df = df.describe()\n",
    "initial_max = df.max()\n",
    "initial_min = df.min()\n"
   ]
  },
  {
   "cell_type": "code",
   "execution_count": 7,
   "metadata": {},
   "outputs": [
    {
     "data": {
      "text/html": [
       "<div>\n",
       "<style scoped>\n",
       "    .dataframe tbody tr th:only-of-type {\n",
       "        vertical-align: middle;\n",
       "    }\n",
       "\n",
       "    .dataframe tbody tr th {\n",
       "        vertical-align: top;\n",
       "    }\n",
       "\n",
       "    .dataframe thead th {\n",
       "        text-align: right;\n",
       "    }\n",
       "</style>\n",
       "<table border=\"1\" class=\"dataframe\">\n",
       "  <thead>\n",
       "    <tr style=\"text-align: right;\">\n",
       "      <th></th>\n",
       "      <th>parcelid</th>\n",
       "      <th>fips</th>\n",
       "      <th>bathroomcnt</th>\n",
       "      <th>bedroomcnt</th>\n",
       "      <th>calculatedfinishedsquarefeet</th>\n",
       "      <th>lotsizesquarefeet</th>\n",
       "      <th>taxvaluedollarcnt</th>\n",
       "    </tr>\n",
       "  </thead>\n",
       "  <tbody>\n",
       "    <tr>\n",
       "      <th>count</th>\n",
       "      <td>1.503600e+04</td>\n",
       "      <td>15036.000000</td>\n",
       "      <td>15036.000000</td>\n",
       "      <td>15036.000000</td>\n",
       "      <td>15012.000000</td>\n",
       "      <td>1.493200e+04</td>\n",
       "      <td>1.503600e+04</td>\n",
       "    </tr>\n",
       "    <tr>\n",
       "      <th>mean</th>\n",
       "      <td>1.303819e+07</td>\n",
       "      <td>6049.395318</td>\n",
       "      <td>2.322426</td>\n",
       "      <td>3.307595</td>\n",
       "      <td>1942.043165</td>\n",
       "      <td>1.062587e+04</td>\n",
       "      <td>5.434477e+05</td>\n",
       "    </tr>\n",
       "    <tr>\n",
       "      <th>std</th>\n",
       "      <td>3.927138e+06</td>\n",
       "      <td>21.237001</td>\n",
       "      <td>1.025202</td>\n",
       "      <td>0.951095</td>\n",
       "      <td>1001.672378</td>\n",
       "      <td>3.028759e+04</td>\n",
       "      <td>7.354153e+05</td>\n",
       "    </tr>\n",
       "    <tr>\n",
       "      <th>min</th>\n",
       "      <td>1.071210e+07</td>\n",
       "      <td>6037.000000</td>\n",
       "      <td>0.000000</td>\n",
       "      <td>0.000000</td>\n",
       "      <td>300.000000</td>\n",
       "      <td>5.940000e+02</td>\n",
       "      <td>1.050400e+04</td>\n",
       "    </tr>\n",
       "    <tr>\n",
       "      <th>25%</th>\n",
       "      <td>1.150329e+07</td>\n",
       "      <td>6037.000000</td>\n",
       "      <td>2.000000</td>\n",
       "      <td>3.000000</td>\n",
       "      <td>1274.750000</td>\n",
       "      <td>5.597000e+03</td>\n",
       "      <td>1.986335e+05</td>\n",
       "    </tr>\n",
       "    <tr>\n",
       "      <th>50%</th>\n",
       "      <td>1.258458e+07</td>\n",
       "      <td>6037.000000</td>\n",
       "      <td>2.000000</td>\n",
       "      <td>3.000000</td>\n",
       "      <td>1679.000000</td>\n",
       "      <td>6.876500e+03</td>\n",
       "      <td>3.851740e+05</td>\n",
       "    </tr>\n",
       "    <tr>\n",
       "      <th>75%</th>\n",
       "      <td>1.414342e+07</td>\n",
       "      <td>6059.000000</td>\n",
       "      <td>3.000000</td>\n",
       "      <td>4.000000</td>\n",
       "      <td>2346.000000</td>\n",
       "      <td>8.888000e+03</td>\n",
       "      <td>6.452412e+05</td>\n",
       "    </tr>\n",
       "    <tr>\n",
       "      <th>max</th>\n",
       "      <td>1.676878e+08</td>\n",
       "      <td>6111.000000</td>\n",
       "      <td>11.000000</td>\n",
       "      <td>12.000000</td>\n",
       "      <td>15450.000000</td>\n",
       "      <td>1.323788e+06</td>\n",
       "      <td>2.385837e+07</td>\n",
       "    </tr>\n",
       "  </tbody>\n",
       "</table>\n",
       "</div>"
      ],
      "text/plain": [
       "           parcelid          fips   bathroomcnt    bedroomcnt  \\\n",
       "count  1.503600e+04  15036.000000  15036.000000  15036.000000   \n",
       "mean   1.303819e+07   6049.395318      2.322426      3.307595   \n",
       "std    3.927138e+06     21.237001      1.025202      0.951095   \n",
       "min    1.071210e+07   6037.000000      0.000000      0.000000   \n",
       "25%    1.150329e+07   6037.000000      2.000000      3.000000   \n",
       "50%    1.258458e+07   6037.000000      2.000000      3.000000   \n",
       "75%    1.414342e+07   6059.000000      3.000000      4.000000   \n",
       "max    1.676878e+08   6111.000000     11.000000     12.000000   \n",
       "\n",
       "       calculatedfinishedsquarefeet  lotsizesquarefeet  taxvaluedollarcnt  \n",
       "count                  15012.000000       1.493200e+04       1.503600e+04  \n",
       "mean                    1942.043165       1.062587e+04       5.434477e+05  \n",
       "std                     1001.672378       3.028759e+04       7.354153e+05  \n",
       "min                      300.000000       5.940000e+02       1.050400e+04  \n",
       "25%                     1274.750000       5.597000e+03       1.986335e+05  \n",
       "50%                     1679.000000       6.876500e+03       3.851740e+05  \n",
       "75%                     2346.000000       8.888000e+03       6.452412e+05  \n",
       "max                    15450.000000       1.323788e+06       2.385837e+07  "
      ]
     },
     "execution_count": 7,
     "metadata": {},
     "output_type": "execute_result"
    }
   ],
   "source": [
    "initial_df\n"
   ]
  },
  {
   "cell_type": "code",
   "execution_count": 8,
   "metadata": {},
   "outputs": [
    {
     "data": {
      "text/plain": [
       "parcelid                        167687839.0\n",
       "fips                                 6111.0\n",
       "bathroomcnt                            11.0\n",
       "bedroomcnt                             12.0\n",
       "calculatedfinishedsquarefeet        15450.0\n",
       "lotsizesquarefeet                 1323788.0\n",
       "taxvaluedollarcnt                23858374.0\n",
       "dtype: float64"
      ]
     },
     "execution_count": 8,
     "metadata": {},
     "output_type": "execute_result"
    }
   ],
   "source": [
    "initial_max\n"
   ]
  },
  {
   "cell_type": "code",
   "execution_count": 9,
   "metadata": {},
   "outputs": [
    {
     "data": {
      "text/plain": [
       "parcelid                        10712101.0\n",
       "fips                                6037.0\n",
       "bathroomcnt                            0.0\n",
       "bedroomcnt                             0.0\n",
       "calculatedfinishedsquarefeet         300.0\n",
       "lotsizesquarefeet                    594.0\n",
       "taxvaluedollarcnt                  10504.0\n",
       "dtype: float64"
      ]
     },
     "execution_count": 9,
     "metadata": {},
     "output_type": "execute_result"
    }
   ],
   "source": [
    "initial_min\n"
   ]
  },
  {
   "cell_type": "code",
   "execution_count": 10,
   "metadata": {},
   "outputs": [
    {
     "data": {
      "text/plain": [
       "Index(['parcelid', 'fips', 'bathroomcnt', 'bedroomcnt',\n",
       "       'calculatedfinishedsquarefeet', 'lotsizesquarefeet',\n",
       "       'taxvaluedollarcnt'],\n",
       "      dtype='object')"
      ]
     },
     "execution_count": 10,
     "metadata": {},
     "output_type": "execute_result"
    }
   ],
   "source": [
    "# dataframe columns:\n",
    "\n",
    "df.columns\n"
   ]
  },
  {
   "cell_type": "code",
   "execution_count": 11,
   "metadata": {},
   "outputs": [
    {
     "data": {
      "text/plain": [
       "(15036, 7)"
      ]
     },
     "execution_count": 11,
     "metadata": {},
     "output_type": "execute_result"
    }
   ],
   "source": [
    "# shape of dataframe:\n",
    "\n",
    "df.shape\n"
   ]
  },
  {
   "cell_type": "markdown",
   "metadata": {},
   "source": [
    "*PREP*\n",
    "\n",
    "Goal: \n",
    "    Create a dataset that is ready to be analyzed. \n",
    "    Datatypes are appropriate, null values, and integrity issues have been addressed."
   ]
  },
  {
   "cell_type": "code",
   "execution_count": 12,
   "metadata": {},
   "outputs": [
    {
     "data": {
      "text/plain": [
       "parcelid                          0\n",
       "fips                              0\n",
       "bathroomcnt                       0\n",
       "bedroomcnt                        0\n",
       "calculatedfinishedsquarefeet     24\n",
       "lotsizesquarefeet               104\n",
       "taxvaluedollarcnt                 0\n",
       "dtype: int64"
      ]
     },
     "execution_count": 12,
     "metadata": {},
     "output_type": "execute_result"
    }
   ],
   "source": [
    "# Find amount of nulls in dataframe:\n",
    "\n",
    "df.isnull().sum()\n"
   ]
  },
  {
   "cell_type": "code",
   "execution_count": 13,
   "metadata": {},
   "outputs": [],
   "source": [
    "# There are 24 null values only in 'calculatedfinishedsquarefeet', and 124 Null values in 'lotsizesquarefeet'.  Because we have 15,034 rows in a our data frame we will drop out those values, because we believe that we have enough data to begin to make our models for predictions.\n",
    "# Use prep.py to clean the dataframe by dropping the rows with null values. As stated earlier because we are working with numeric data types we do not need to change the datatypes of any of our variables.\n",
    "\n",
    "clean_df = prep.clean_data(df)\n"
   ]
  },
  {
   "cell_type": "code",
   "execution_count": 14,
   "metadata": {},
   "outputs": [
    {
     "data": {
      "text/html": [
       "<div>\n",
       "<style scoped>\n",
       "    .dataframe tbody tr th:only-of-type {\n",
       "        vertical-align: middle;\n",
       "    }\n",
       "\n",
       "    .dataframe tbody tr th {\n",
       "        vertical-align: top;\n",
       "    }\n",
       "\n",
       "    .dataframe thead th {\n",
       "        text-align: right;\n",
       "    }\n",
       "</style>\n",
       "<table border=\"1\" class=\"dataframe\">\n",
       "  <thead>\n",
       "    <tr style=\"text-align: right;\">\n",
       "      <th></th>\n",
       "      <th>parcelid</th>\n",
       "      <th>fips</th>\n",
       "      <th>bathroomcnt</th>\n",
       "      <th>bedroomcnt</th>\n",
       "      <th>calculatedfinishedsquarefeet</th>\n",
       "      <th>lotsizesquarefeet</th>\n",
       "      <th>taxvaluedollarcnt</th>\n",
       "    </tr>\n",
       "  </thead>\n",
       "  <tbody>\n",
       "    <tr>\n",
       "      <th>count</th>\n",
       "      <td>1.491200e+04</td>\n",
       "      <td>14912.000000</td>\n",
       "      <td>14912.000000</td>\n",
       "      <td>14912.000000</td>\n",
       "      <td>14912.000000</td>\n",
       "      <td>1.491200e+04</td>\n",
       "      <td>1.491200e+04</td>\n",
       "    </tr>\n",
       "    <tr>\n",
       "      <th>mean</th>\n",
       "      <td>1.300130e+07</td>\n",
       "      <td>6049.454533</td>\n",
       "      <td>2.321520</td>\n",
       "      <td>3.312768</td>\n",
       "      <td>1937.636132</td>\n",
       "      <td>1.054833e+04</td>\n",
       "      <td>5.393561e+05</td>\n",
       "    </tr>\n",
       "    <tr>\n",
       "      <th>std</th>\n",
       "      <td>3.019946e+06</td>\n",
       "      <td>21.285813</td>\n",
       "      <td>1.016602</td>\n",
       "      <td>0.932187</td>\n",
       "      <td>992.780854</td>\n",
       "      <td>2.938160e+04</td>\n",
       "      <td>7.287557e+05</td>\n",
       "    </tr>\n",
       "    <tr>\n",
       "      <th>min</th>\n",
       "      <td>1.071210e+07</td>\n",
       "      <td>6037.000000</td>\n",
       "      <td>0.000000</td>\n",
       "      <td>0.000000</td>\n",
       "      <td>300.000000</td>\n",
       "      <td>5.940000e+02</td>\n",
       "      <td>1.050400e+04</td>\n",
       "    </tr>\n",
       "    <tr>\n",
       "      <th>25%</th>\n",
       "      <td>1.150358e+07</td>\n",
       "      <td>6037.000000</td>\n",
       "      <td>2.000000</td>\n",
       "      <td>3.000000</td>\n",
       "      <td>1275.000000</td>\n",
       "      <td>5.595750e+03</td>\n",
       "      <td>1.987488e+05</td>\n",
       "    </tr>\n",
       "    <tr>\n",
       "      <th>50%</th>\n",
       "      <td>1.258708e+07</td>\n",
       "      <td>6037.000000</td>\n",
       "      <td>2.000000</td>\n",
       "      <td>3.000000</td>\n",
       "      <td>1678.000000</td>\n",
       "      <td>6.874500e+03</td>\n",
       "      <td>3.843815e+05</td>\n",
       "    </tr>\n",
       "    <tr>\n",
       "      <th>75%</th>\n",
       "      <td>1.414450e+07</td>\n",
       "      <td>6059.000000</td>\n",
       "      <td>3.000000</td>\n",
       "      <td>4.000000</td>\n",
       "      <td>2342.000000</td>\n",
       "      <td>8.880000e+03</td>\n",
       "      <td>6.434652e+05</td>\n",
       "    </tr>\n",
       "    <tr>\n",
       "      <th>max</th>\n",
       "      <td>1.629608e+08</td>\n",
       "      <td>6111.000000</td>\n",
       "      <td>11.000000</td>\n",
       "      <td>11.000000</td>\n",
       "      <td>15450.000000</td>\n",
       "      <td>1.323788e+06</td>\n",
       "      <td>2.385837e+07</td>\n",
       "    </tr>\n",
       "  </tbody>\n",
       "</table>\n",
       "</div>"
      ],
      "text/plain": [
       "           parcelid          fips   bathroomcnt    bedroomcnt  \\\n",
       "count  1.491200e+04  14912.000000  14912.000000  14912.000000   \n",
       "mean   1.300130e+07   6049.454533      2.321520      3.312768   \n",
       "std    3.019946e+06     21.285813      1.016602      0.932187   \n",
       "min    1.071210e+07   6037.000000      0.000000      0.000000   \n",
       "25%    1.150358e+07   6037.000000      2.000000      3.000000   \n",
       "50%    1.258708e+07   6037.000000      2.000000      3.000000   \n",
       "75%    1.414450e+07   6059.000000      3.000000      4.000000   \n",
       "max    1.629608e+08   6111.000000     11.000000     11.000000   \n",
       "\n",
       "       calculatedfinishedsquarefeet  lotsizesquarefeet  taxvaluedollarcnt  \n",
       "count                  14912.000000       1.491200e+04       1.491200e+04  \n",
       "mean                    1937.636132       1.054833e+04       5.393561e+05  \n",
       "std                      992.780854       2.938160e+04       7.287557e+05  \n",
       "min                      300.000000       5.940000e+02       1.050400e+04  \n",
       "25%                     1275.000000       5.595750e+03       1.987488e+05  \n",
       "50%                     1678.000000       6.874500e+03       3.843815e+05  \n",
       "75%                     2342.000000       8.880000e+03       6.434652e+05  \n",
       "max                    15450.000000       1.323788e+06       2.385837e+07  "
      ]
     },
     "execution_count": 14,
     "metadata": {},
     "output_type": "execute_result"
    }
   ],
   "source": [
    "# Lets look at our descriptive stats to see if there any major changes\n",
    "\n",
    "clean_df.describe()\n"
   ]
  },
  {
   "cell_type": "code",
   "execution_count": 15,
   "metadata": {},
   "outputs": [
    {
     "data": {
      "text/plain": [
       "(14912, 7)"
      ]
     },
     "execution_count": 15,
     "metadata": {},
     "output_type": "execute_result"
    }
   ],
   "source": [
    "clean_df.shape\n"
   ]
  },
  {
   "cell_type": "code",
   "execution_count": 16,
   "metadata": {},
   "outputs": [],
   "source": [
    "# My preference is to have my index be my parcel_id, and fips number so that when I am splitting into train, test and scaling. I be won't be scaling my 'parcelid' , and 'fips' (identifies county of the property ) and the integrity of those columns will be intact.\n",
    "# Now that the data is clean I will rename it to be the dataframe - 'df'.\n",
    "\n",
    "df = clean_df .set_index(['parcelid','fips'])\n"
   ]
  },
  {
   "cell_type": "code",
   "execution_count": 17,
   "metadata": {},
   "outputs": [
    {
     "data": {
      "text/html": [
       "<div>\n",
       "<style scoped>\n",
       "    .dataframe tbody tr th:only-of-type {\n",
       "        vertical-align: middle;\n",
       "    }\n",
       "\n",
       "    .dataframe tbody tr th {\n",
       "        vertical-align: top;\n",
       "    }\n",
       "\n",
       "    .dataframe thead th {\n",
       "        text-align: right;\n",
       "    }\n",
       "</style>\n",
       "<table border=\"1\" class=\"dataframe\">\n",
       "  <thead>\n",
       "    <tr style=\"text-align: right;\">\n",
       "      <th></th>\n",
       "      <th></th>\n",
       "      <th>bathroomcnt</th>\n",
       "      <th>bedroomcnt</th>\n",
       "      <th>calculatedfinishedsquarefeet</th>\n",
       "      <th>lotsizesquarefeet</th>\n",
       "      <th>taxvaluedollarcnt</th>\n",
       "    </tr>\n",
       "    <tr>\n",
       "      <th>parcelid</th>\n",
       "      <th>fips</th>\n",
       "      <th></th>\n",
       "      <th></th>\n",
       "      <th></th>\n",
       "      <th></th>\n",
       "      <th></th>\n",
       "    </tr>\n",
       "  </thead>\n",
       "  <tbody>\n",
       "    <tr>\n",
       "      <th>11289917</th>\n",
       "      <th>6037.0</th>\n",
       "      <td>2.0</td>\n",
       "      <td>3.0</td>\n",
       "      <td>1458.0</td>\n",
       "      <td>8284.0</td>\n",
       "      <td>136104.0</td>\n",
       "    </tr>\n",
       "    <tr>\n",
       "      <th>11705026</th>\n",
       "      <th>6037.0</th>\n",
       "      <td>1.0</td>\n",
       "      <td>2.0</td>\n",
       "      <td>1421.0</td>\n",
       "      <td>6707.0</td>\n",
       "      <td>35606.0</td>\n",
       "    </tr>\n",
       "    <tr>\n",
       "      <th>14269464</th>\n",
       "      <th>6059.0</th>\n",
       "      <td>3.0</td>\n",
       "      <td>4.0</td>\n",
       "      <td>2541.0</td>\n",
       "      <td>4975.0</td>\n",
       "      <td>880456.0</td>\n",
       "    </tr>\n",
       "    <tr>\n",
       "      <th>11389003</th>\n",
       "      <th>6037.0</th>\n",
       "      <td>2.0</td>\n",
       "      <td>3.0</td>\n",
       "      <td>1650.0</td>\n",
       "      <td>7300.0</td>\n",
       "      <td>614000.0</td>\n",
       "    </tr>\n",
       "    <tr>\n",
       "      <th>11967869</th>\n",
       "      <th>6037.0</th>\n",
       "      <td>1.0</td>\n",
       "      <td>2.0</td>\n",
       "      <td>693.0</td>\n",
       "      <td>2908.0</td>\n",
       "      <td>274237.0</td>\n",
       "    </tr>\n",
       "  </tbody>\n",
       "</table>\n",
       "</div>"
      ],
      "text/plain": [
       "                 bathroomcnt  bedroomcnt  calculatedfinishedsquarefeet  \\\n",
       "parcelid fips                                                            \n",
       "11289917 6037.0          2.0         3.0                        1458.0   \n",
       "11705026 6037.0          1.0         2.0                        1421.0   \n",
       "14269464 6059.0          3.0         4.0                        2541.0   \n",
       "11389003 6037.0          2.0         3.0                        1650.0   \n",
       "11967869 6037.0          1.0         2.0                         693.0   \n",
       "\n",
       "                 lotsizesquarefeet  taxvaluedollarcnt  \n",
       "parcelid fips                                          \n",
       "11289917 6037.0             8284.0           136104.0  \n",
       "11705026 6037.0             6707.0            35606.0  \n",
       "14269464 6059.0             4975.0           880456.0  \n",
       "11389003 6037.0             7300.0           614000.0  \n",
       "11967869 6037.0             2908.0           274237.0  "
      ]
     },
     "execution_count": 17,
     "metadata": {},
     "output_type": "execute_result"
    }
   ],
   "source": [
    "df.head()\n"
   ]
  },
  {
   "cell_type": "markdown",
   "metadata": {},
   "source": [
    "### plot the distributions of independent variables. "
   ]
  },
  {
   "cell_type": "code",
   "execution_count": 18,
   "metadata": {},
   "outputs": [
    {
     "data": {
      "image/png": "[encoded data removed]",
      "text/plain": [
       "<Figure size 432x288 with 1 Axes>"
      ]
     },
     "metadata": {
      "needs_background": "light"
     },
     "output_type": "display_data"
    }
   ],
   "source": [
    "# Bathroomcnt box plots\n",
    "\n",
    "sns.boxplot(df.bathroomcnt)\n",
    "plt.xlabel('Bathroom count')\n",
    "plt.title('Bathroom Box Plot')\n",
    "plt.show()\n"
   ]
  },
  {
   "cell_type": "code",
   "execution_count": 19,
   "metadata": {},
   "outputs": [
    {
     "data": {
      "image/png": "[encoded data removed]",
      "text/plain": [
       "<Figure size 432x288 with 1 Axes>"
      ]
     },
     "metadata": {
      "needs_background": "light"
     },
     "output_type": "display_data"
    }
   ],
   "source": [
    "# Bathroomcnt box plots\n",
    "\n",
    "sns.boxplot(df.bathroomcnt, palette = 'husl')\n",
    "plt.xlabel('Bathroom count')\n",
    "plt.title('Bathroom Box Plot')\n",
    "plt.show()\n"
   ]
  },
  {
   "cell_type": "markdown",
   "metadata": {},
   "source": [
    "There are outliers in properties that have more than 4 bathrooms"
   ]
  },
  {
   "cell_type": "code",
   "execution_count": 20,
   "metadata": {},
   "outputs": [
    {
     "data": {
      "image/png": "[encoded data removed]",
      "text/plain": [
       "<Figure size 432x288 with 1 Axes>"
      ]
     },
     "metadata": {
      "needs_background": "light"
     },
     "output_type": "display_data"
    }
   ],
   "source": [
    "# bathroom count distribution, because bathrooms are a discrete variable we will plot the distribution using a histogram\n",
    "\n",
    "plt.hist(df.bathroomcnt, bins = [x*.5 for x in range(0,23)], color = 'red')\n",
    "plt.xlabel('bathroom count')\n",
    "plt.ylabel('count')\n",
    "plt.title('Bathroom Distribution')\n",
    "plt.show()\n"
   ]
  },
  {
   "cell_type": "code",
   "execution_count": 21,
   "metadata": {},
   "outputs": [
    {
     "data": {
      "text/plain": [
       "0.0       16\n",
       "1.0     2634\n",
       "1.5      237\n",
       "2.0     6165\n",
       "2.5     1155\n",
       "3.0     3088\n",
       "3.5      302\n",
       "4.0      651\n",
       "4.5      217\n",
       "5.0      224\n",
       "5.5       65\n",
       "6.0       95\n",
       "6.5       15\n",
       "7.0       25\n",
       "7.5        4\n",
       "8.0       14\n",
       "9.0        3\n",
       "10.0       1\n",
       "11.0       1\n",
       "Name: bathroomcnt, dtype: int64"
      ]
     },
     "execution_count": 21,
     "metadata": {},
     "output_type": "execute_result"
    }
   ],
   "source": [
    "df.bathroomcnt.value_counts().sort_index()\n"
   ]
  },
  {
   "cell_type": "code",
   "execution_count": 22,
   "metadata": {},
   "outputs": [
    {
     "data": {
      "image/png": "[encoded data removed]",
      "text/plain": [
       "<Figure size 432x288 with 1 Axes>"
      ]
     },
     "metadata": {
      "needs_background": "light"
     },
     "output_type": "display_data"
    }
   ],
   "source": [
    "# Bedroomcnt box plots\n",
    "\n",
    "sns.boxplot(df.bedroomcnt, color = 'blue')\n",
    "plt.xlabel('Bedroom count')\n",
    "plt.title('Bedroom Box Plot')\n",
    "plt.show()\n"
   ]
  },
  {
   "cell_type": "code",
   "execution_count": 23,
   "metadata": {},
   "outputs": [
    {
     "data": {
      "image/png": "[encoded data removed]",
      "text/plain": [
       "<Figure size 432x288 with 1 Axes>"
      ]
     },
     "metadata": {
      "needs_background": "light"
     },
     "output_type": "display_data"
    }
   ],
   "source": [
    "# bedroom count distribution, because bedrooms are a discrete variables we will plot the distibution using a histogram.\n",
    "\n",
    "plt.hist(df.bedroomcnt, bins = [x for x in range(0,13)], color = 'red')\n",
    "plt.xlabel('Bedroom count')\n",
    "plt.ylabel('count')\n",
    "plt.title('Bedroom Distribution')\n",
    "plt.show()\n"
   ]
  },
  {
   "cell_type": "markdown",
   "metadata": {},
   "source": [
    "We see outliers as well for bedrooms with less than 2 and more than 5"
   ]
  },
  {
   "cell_type": "markdown",
   "metadata": {},
   "source": [
    "For bedroom and bathroom counts most of the values lie between 1 and 6.\n"
   ]
  },
  {
   "cell_type": "code",
   "execution_count": 24,
   "metadata": {},
   "outputs": [
    {
     "data": {
      "image/png": "[encoded data removed]",
      "text/plain": [
       "<Figure size 432x288 with 1 Axes>"
      ]
     },
     "metadata": {
      "needs_background": "light"
     },
     "output_type": "display_data"
    }
   ],
   "source": [
    "#Calculatedfinished squarefeet box plots\n",
    "\n",
    "sns.boxplot(df.calculatedfinishedsquarefeet, color = 'green')\n",
    "plt.xlabel('count')\n",
    "plt.title('Calculated Finished Square Feet Box Plot')\n",
    "plt.show()\n"
   ]
  },
  {
   "cell_type": "code",
   "execution_count": 25,
   "metadata": {},
   "outputs": [
    {
     "data": {
      "image/png": "[encoded data removed]",
      "text/plain": [
       "<Figure size 432x288 with 1 Axes>"
      ]
     },
     "metadata": {
      "needs_background": "light"
     },
     "output_type": "display_data"
    }
   ],
   "source": [
    "# calculatedfinishedsquarefeet is also a discrete variable.\n",
    "\n",
    "plt.hist(df.calculatedfinishedsquarefeet, bins = 70)\n",
    "plt.xlabel('Square Feet')\n",
    "plt.ylabel('count')\n",
    "plt.title('Square Footage Distribution')\n",
    "plt.show()\n"
   ]
  },
  {
   "cell_type": "code",
   "execution_count": 26,
   "metadata": {},
   "outputs": [
    {
     "data": {
      "text/plain": [
       "0.0       15\n",
       "1.0      170\n",
       "2.0     2328\n",
       "3.0     6644\n",
       "4.0     4392\n",
       "5.0     1148\n",
       "6.0      183\n",
       "7.0       27\n",
       "8.0        1\n",
       "9.0        2\n",
       "10.0       1\n",
       "11.0       1\n",
       "Name: bedroomcnt, dtype: int64"
      ]
     },
     "execution_count": 26,
     "metadata": {},
     "output_type": "execute_result"
    }
   ],
   "source": [
    "df.bedroomcnt.value_counts().sort_index()\n"
   ]
  },
  {
   "cell_type": "code",
   "execution_count": 27,
   "metadata": {},
   "outputs": [
    {
     "data": {
      "text/plain": [
       "(284.84900000000005, 516.429]      24\n",
       "(516.429, 732.857]                163\n",
       "(732.857, 949.286]                778\n",
       "(949.286, 1165.714]              1671\n",
       "(1165.714, 1382.143]             2126\n",
       "(1382.143, 1598.571]             2029\n",
       "(1598.571, 1815.0]               1660\n",
       "(1815.0, 2031.429]               1317\n",
       "(2031.429, 2247.857]             1051\n",
       "(2247.857, 2464.286]              821\n",
       "(2464.286, 2680.714]              721\n",
       "(2680.714, 2897.143]              597\n",
       "(2897.143, 3113.571]              419\n",
       "(3113.571, 3330.0]                356\n",
       "(3330.0, 3546.429]                243\n",
       "(3546.429, 3762.857]              206\n",
       "(3762.857, 3979.286]              139\n",
       "(3979.286, 4195.714]              125\n",
       "(4195.714, 4412.143]               95\n",
       "(4412.143, 4628.571]               64\n",
       "(4628.571, 4845.0]                 66\n",
       "(4845.0, 5061.429]                 36\n",
       "(5061.429, 5277.857]               27\n",
       "(5277.857, 5494.286]               28\n",
       "(5494.286, 5710.714]               18\n",
       "(5710.714, 5927.143]               24\n",
       "(5927.143, 6143.571]               13\n",
       "(6143.571, 6360.0]                 10\n",
       "(6360.0, 6576.429]                 18\n",
       "(6576.429, 6792.857]               10\n",
       "                                 ... \n",
       "(8957.143, 9173.571]                0\n",
       "(9173.571, 9390.0]                  3\n",
       "(9390.0, 9606.429]                  1\n",
       "(9606.429, 9822.857]                2\n",
       "(9822.857, 10039.286]               0\n",
       "(10039.286, 10255.714]              0\n",
       "(10255.714, 10472.143]              1\n",
       "(10472.143, 10688.571]              2\n",
       "(10688.571, 10905.0]                0\n",
       "(10905.0, 11121.429]                1\n",
       "(11121.429, 11337.857]              0\n",
       "(11337.857, 11554.286]              1\n",
       "(11554.286, 11770.714]              0\n",
       "(11770.714, 11987.143]              0\n",
       "(11987.143, 12203.571]              0\n",
       "(12203.571, 12420.0]                0\n",
       "(12420.0, 12636.429]                0\n",
       "(12636.429, 12852.857]              0\n",
       "(12852.857, 13069.286]              0\n",
       "(13069.286, 13285.714]              0\n",
       "(13285.714, 13502.143]              0\n",
       "(13502.143, 13718.571]              1\n",
       "(13718.571, 13935.0]                0\n",
       "(13935.0, 14151.429]                0\n",
       "(14151.429, 14367.857]              0\n",
       "(14367.857, 14584.286]              0\n",
       "(14584.286, 14800.714]              0\n",
       "(14800.714, 15017.143]              0\n",
       "(15017.143, 15233.571]              0\n",
       "(15233.571, 15450.0]                1\n",
       "Name: calculatedfinishedsquarefeet, Length: 70, dtype: int64"
      ]
     },
     "execution_count": 27,
     "metadata": {},
     "output_type": "execute_result"
    }
   ],
   "source": [
    "df.calculatedfinishedsquarefeet.value_counts(bins = 70).sort_index()\n"
   ]
  },
  {
   "cell_type": "code",
   "execution_count": 28,
   "metadata": {},
   "outputs": [
    {
     "data": {
      "text/plain": [
       "Text(0.5, 1.0, 'Lot Size Distribution')"
      ]
     },
     "execution_count": 28,
     "metadata": {},
     "output_type": "execute_result"
    },
    {
     "data": {
      "image/png": "[encoded data removed]",
      "text/plain": [
       "<Figure size 432x288 with 1 Axes>"
      ]
     },
     "metadata": {
      "needs_background": "light"
     },
     "output_type": "display_data"
    }
   ],
   "source": [
    "# lotsizesquarefeet is a discrete variables. We will split the data into bins to view where most of the properties are at.\n",
    "\n",
    "df.lotsizesquarefeet.value_counts(bins = 100).sort_index().idxmax()\n",
    "plt.hist(df.lotsizesquarefeet, bins = 100)\n",
    "plt.xlabel('Square Feet')\n",
    "plt.ylabel('count')\n",
    "plt.title('Lot Size Distribution')\n"
   ]
  },
  {
   "cell_type": "code",
   "execution_count": 29,
   "metadata": {},
   "outputs": [
    {
     "data": {
      "text/plain": [
       "Text(0.5, 1.0, 'Lot Size Distribution')"
      ]
     },
     "execution_count": 29,
     "metadata": {},
     "output_type": "execute_result"
    },
    {
     "data": {
      "image/png": "[encoded data removed]",
      "text/plain": [
       "<Figure size 432x288 with 1 Axes>"
      ]
     },
     "metadata": {
      "needs_background": "light"
     },
     "output_type": "display_data"
    }
   ],
   "source": [
    "plt.hist(df.lotsizesquarefeet, bins = 100)\n",
    "plt.xlabel('Square Feet')\n",
    "plt.xscale('log')\n",
    "plt.ylabel('count')\n",
    "plt.title('Lot Size Distribution')\n"
   ]
  },
  {
   "cell_type": "markdown",
   "metadata": {},
   "source": [
    "Data Dictionary:\n",
    "\n",
    "Independent Variables:\n",
    "\n",
    "bathroomcnt: Count of total number of bathrooms on the property. Did not choose to use calculatedbathnbr because this only took into account bathrooms attached to bedrooms.\n",
    "\n",
    "bedroomcnt: Count of total number of bedrooms on the property. Did not choose to use calculatedbathnbr because this only took into account bathrooms attached to bedrooms.\n",
    "\n",
    "calculatedfinishedsquarefeet: Total amount of squarefootage of the property. This does not include lot size. There were other finishedsquare feet columns 12, 13, 50, 15, 6. These other finished square feet columns contained significant amounts of NULL values that would have effected how many data samples we had. Not that having more data is better, we just had another columns with finishedsquarefeet that could represent the living squarefootage of the property.\n",
    "\n",
    "lotsizesquarefeet: Total amount of square feet of the lot. This will be a good value to use because we are looking at property square footage as well that is only the amount of living squarefeet. The lotsize can tell us about the value of the property as well.\n",
    "\n",
    "Target Variable:\n",
    "taxvaluedollarcount: This data calculated both the structuretaxvaluedollarcnt and landtaxvaluedollarcnt. Taxvaluedollarcnt was the similar way to predict how much someone might pay for a property.\n",
    "\n",
    "Index:\n",
    "parcelid: to keep some of the integrity of the data we will use the parcelid number of the properties as index values. This will help in future research of looking at characteristics of specific properties, and how they influence their property value.\n",
    "\n",
    "fips: assigned county of the property\n",
    "    fips locations:\n",
    "        6037 - California - Los Angeles County\n",
    "        6059 - California - Orange County\n",
    "        6111 - California - Venture County\n",
    "\n",
    "Scaling our data:\n",
    "\n",
    "Our independent variables, and target variables are measured in two different ways:\n",
    "    1. Square footage - calculatedfinishedsquarefeet, lotsizesquarefeet\n",
    "    2. Quanity Count - bedroomcnt, bathroomcnt\n",
    "    3. Cost - taxvaluedollarcnt\n",
    "\n",
    "There are some outliers in our data where they have a high bedroom, bathroom, or calculated squarefootage. Because of these values we will use a Robust Scaler. The centering and scaling of the Robust scaler are based on percentiles. This means that the scaling is not influenced by a few number of very large marginal outliers. \n",
    "<https://scikit-learn.org/stable/auto_examples/preprocessing/plot_all_scaling.html>\n",
    "\n",
    "Erroneous or Invalid Data:\n",
    "There was not outstanding erroneous data found in the preperation. We are going to keep properties that have bedrooms, or bathrooms as 0 because they still have a calculatedfinsihedsquarefeet. The squarefootage will drive the values of the property more than the room count. \n",
    "The values that were droped from the dataframe are the null values in calculated finished square feet.\n"
   ]
  },
  {
   "cell_type": "code",
   "execution_count": 30,
   "metadata": {},
   "outputs": [],
   "source": [
    "# use split_scale.py function split_my_data(df) to create train and test dateframes\n",
    "\n",
    "train, test = split_scale.split_my_data(df)\n"
   ]
  },
  {
   "cell_type": "code",
   "execution_count": 31,
   "metadata": {},
   "outputs": [],
   "source": [
    "# use split_scale.py function iqr_robust_scaler(train,test) to scale the data so they will be on the same unit scale. We do this because in the prep phase we saw that some variables are measured in squarefeet, and rooms are just a count value.\n",
    "\n",
    "scaler, train_scaled, test_scaled = split_scale.iqr_robust_scaler(train, test)\n"
   ]
  },
  {
   "cell_type": "code",
   "execution_count": 32,
   "metadata": {},
   "outputs": [
    {
     "data": {
      "text/html": [
       "<div>\n",
       "<style scoped>\n",
       "    .dataframe tbody tr th:only-of-type {\n",
       "        vertical-align: middle;\n",
       "    }\n",
       "\n",
       "    .dataframe tbody tr th {\n",
       "        vertical-align: top;\n",
       "    }\n",
       "\n",
       "    .dataframe thead th {\n",
       "        text-align: right;\n",
       "    }\n",
       "</style>\n",
       "<table border=\"1\" class=\"dataframe\">\n",
       "  <thead>\n",
       "    <tr style=\"text-align: right;\">\n",
       "      <th></th>\n",
       "      <th>bathroomcnt</th>\n",
       "      <th>bedroomcnt</th>\n",
       "      <th>calculatedfinishedsquarefeet</th>\n",
       "      <th>lotsizesquarefeet</th>\n",
       "      <th>taxvaluedollarcnt</th>\n",
       "    </tr>\n",
       "  </thead>\n",
       "  <tbody>\n",
       "    <tr>\n",
       "      <th>(11461315, 6037.0)</th>\n",
       "      <td>1.0</td>\n",
       "      <td>1.0</td>\n",
       "      <td>0.146226</td>\n",
       "      <td>-0.115479</td>\n",
       "      <td>1.116738</td>\n",
       "    </tr>\n",
       "    <tr>\n",
       "      <th>(11149006, 6037.0)</th>\n",
       "      <td>2.0</td>\n",
       "      <td>2.0</td>\n",
       "      <td>1.510377</td>\n",
       "      <td>3.459459</td>\n",
       "      <td>0.685457</td>\n",
       "    </tr>\n",
       "    <tr>\n",
       "      <th>(14436340, 6059.0)</th>\n",
       "      <td>1.0</td>\n",
       "      <td>1.0</td>\n",
       "      <td>-0.182075</td>\n",
       "      <td>32.671376</td>\n",
       "      <td>0.131194</td>\n",
       "    </tr>\n",
       "    <tr>\n",
       "      <th>(11203873, 6037.0)</th>\n",
       "      <td>0.0</td>\n",
       "      <td>0.0</td>\n",
       "      <td>-0.326415</td>\n",
       "      <td>-0.211609</td>\n",
       "      <td>-0.590122</td>\n",
       "    </tr>\n",
       "    <tr>\n",
       "      <th>(13007611, 6037.0)</th>\n",
       "      <td>3.0</td>\n",
       "      <td>1.0</td>\n",
       "      <td>1.365094</td>\n",
       "      <td>0.785627</td>\n",
       "      <td>1.388001</td>\n",
       "    </tr>\n",
       "  </tbody>\n",
       "</table>\n",
       "</div>"
      ],
      "text/plain": [
       "                    bathroomcnt  bedroomcnt  calculatedfinishedsquarefeet  \\\n",
       "(11461315, 6037.0)          1.0         1.0                      0.146226   \n",
       "(11149006, 6037.0)          2.0         2.0                      1.510377   \n",
       "(14436340, 6059.0)          1.0         1.0                     -0.182075   \n",
       "(11203873, 6037.0)          0.0         0.0                     -0.326415   \n",
       "(13007611, 6037.0)          3.0         1.0                      1.365094   \n",
       "\n",
       "                    lotsizesquarefeet  taxvaluedollarcnt  \n",
       "(11461315, 6037.0)          -0.115479           1.116738  \n",
       "(11149006, 6037.0)           3.459459           0.685457  \n",
       "(14436340, 6059.0)          32.671376           0.131194  \n",
       "(11203873, 6037.0)          -0.211609          -0.590122  \n",
       "(13007611, 6037.0)           0.785627           1.388001  "
      ]
     },
     "execution_count": 32,
     "metadata": {},
     "output_type": "execute_result"
    }
   ],
   "source": [
    "# Look at our scaled data\n",
    "\n",
    "train_scaled.head()\n"
   ]
  },
  {
   "cell_type": "code",
   "execution_count": 33,
   "metadata": {},
   "outputs": [
    {
     "data": {
      "text/html": [
       "<div>\n",
       "<style scoped>\n",
       "    .dataframe tbody tr th:only-of-type {\n",
       "        vertical-align: middle;\n",
       "    }\n",
       "\n",
       "    .dataframe tbody tr th {\n",
       "        vertical-align: top;\n",
       "    }\n",
       "\n",
       "    .dataframe thead th {\n",
       "        text-align: right;\n",
       "    }\n",
       "</style>\n",
       "<table border=\"1\" class=\"dataframe\">\n",
       "  <thead>\n",
       "    <tr style=\"text-align: right;\">\n",
       "      <th></th>\n",
       "      <th>bathroomcnt</th>\n",
       "      <th>bedroomcnt</th>\n",
       "      <th>calculatedfinishedsquarefeet</th>\n",
       "      <th>lotsizesquarefeet</th>\n",
       "      <th>taxvaluedollarcnt</th>\n",
       "    </tr>\n",
       "  </thead>\n",
       "  <tbody>\n",
       "    <tr>\n",
       "      <th>(12471371, 6037.0)</th>\n",
       "      <td>-1.0</td>\n",
       "      <td>0.0</td>\n",
       "      <td>-0.494340</td>\n",
       "      <td>-0.323710</td>\n",
       "      <td>-0.716343</td>\n",
       "    </tr>\n",
       "    <tr>\n",
       "      <th>(14350990, 6059.0)</th>\n",
       "      <td>0.5</td>\n",
       "      <td>0.0</td>\n",
       "      <td>0.755660</td>\n",
       "      <td>-1.301597</td>\n",
       "      <td>0.086451</td>\n",
       "    </tr>\n",
       "    <tr>\n",
       "      <th>(10994984, 6037.0)</th>\n",
       "      <td>-1.0</td>\n",
       "      <td>0.0</td>\n",
       "      <td>-0.504717</td>\n",
       "      <td>-0.665233</td>\n",
       "      <td>-0.421972</td>\n",
       "    </tr>\n",
       "    <tr>\n",
       "      <th>(11152526, 6037.0)</th>\n",
       "      <td>1.0</td>\n",
       "      <td>2.0</td>\n",
       "      <td>0.142453</td>\n",
       "      <td>0.062961</td>\n",
       "      <td>-0.182887</td>\n",
       "    </tr>\n",
       "    <tr>\n",
       "      <th>(14163099, 6059.0)</th>\n",
       "      <td>1.5</td>\n",
       "      <td>1.0</td>\n",
       "      <td>2.157547</td>\n",
       "      <td>1.284091</td>\n",
       "      <td>1.402376</td>\n",
       "    </tr>\n",
       "  </tbody>\n",
       "</table>\n",
       "</div>"
      ],
      "text/plain": [
       "                    bathroomcnt  bedroomcnt  calculatedfinishedsquarefeet  \\\n",
       "(12471371, 6037.0)         -1.0         0.0                     -0.494340   \n",
       "(14350990, 6059.0)          0.5         0.0                      0.755660   \n",
       "(10994984, 6037.0)         -1.0         0.0                     -0.504717   \n",
       "(11152526, 6037.0)          1.0         2.0                      0.142453   \n",
       "(14163099, 6059.0)          1.5         1.0                      2.157547   \n",
       "\n",
       "                    lotsizesquarefeet  taxvaluedollarcnt  \n",
       "(12471371, 6037.0)          -0.323710          -0.716343  \n",
       "(14350990, 6059.0)          -1.301597           0.086451  \n",
       "(10994984, 6037.0)          -0.665233          -0.421972  \n",
       "(11152526, 6037.0)           0.062961          -0.182887  \n",
       "(14163099, 6059.0)           1.284091           1.402376  "
      ]
     },
     "execution_count": 33,
     "metadata": {},
     "output_type": "execute_result"
    }
   ],
   "source": [
    "test_scaled.head()\n"
   ]
  },
  {
   "cell_type": "code",
   "execution_count": 34,
   "metadata": {},
   "outputs": [],
   "source": [
    "# X_train_scaled dataframe will be our indepenent variables : bathroomcnt, bedroomcnt,  caluclatedfinishedsquarefeet, lotsizesquarefeet.\n",
    "# y_train_scaled dataframe will be out target variable: taxvaluedollarcnt\n",
    "\n",
    "X_train_scaled = train_scaled[['bathroomcnt', 'bedroomcnt', 'calculatedfinishedsquarefeet', 'lotsizesquarefeet']]\n",
    "y_train_scaled = train_scaled[['taxvaluedollarcnt']]\n"
   ]
  },
  {
   "cell_type": "code",
   "execution_count": 35,
   "metadata": {},
   "outputs": [],
   "source": [
    "# X_test_scaled dataframe will be 20% of our dataframe and reflect the variables in our training datasets.\n",
    "\n",
    "X_test_scaled = test_scaled[['bathroomcnt', 'bedroomcnt', 'calculatedfinishedsquarefeet', 'lotsizesquarefeet']]\n",
    "y_test_scaled = test_scaled[['taxvaluedollarcnt']]\n"
   ]
  },
  {
   "cell_type": "markdown",
   "metadata": {},
   "source": [
    "***Data Exploration***\n",
    "\n",
    "Goal: Address questions posed in the planning brainstorming phase, and any other questions that have come up along the way through visual or statiscal analysis\n",
    "\n",
    "\n",
    "*** Recap from hypothesis above: ***\n",
    "\n",
    "Which independent variables do you think influence the value of a home?\n",
    "\n",
    "Hypothesis:\n",
    "\n",
    "Variables that can influence the value of home are square feet,  and room count(bedroom, and bath). \n",
    "These two variables can have an influence no matter where the property located.\n",
    "\n",
    "The more square feet of a property the more the value of the home will rise.\n",
    "The higher the room count the cost will increase.\n",
    "The total square footage of the property will be a stronger influence than room count\n",
    "\n",
    "When you start to get into specific locations other factors can influence the value of a home such as zip code, school district, distance to destinations (work, home, restaurants, grocery).\n",
    "Also home amenities will influence the value of a property, such as backyards with pools, garage size, hoa.\n",
    "The age of home would also have influence."
   ]
  },
  {
   "cell_type": "code",
   "execution_count": 36,
   "metadata": {},
   "outputs": [
    {
     "data": {
      "text/plain": [
       "bathroomcnt                     0.516131\n",
       "bedroomcnt                      0.277473\n",
       "calculatedfinishedsquarefeet    0.605381\n",
       "lotsizesquarefeet               0.110503\n",
       "taxvaluedollarcnt               1.000000\n",
       "Name: taxvaluedollarcnt, dtype: float64"
      ]
     },
     "execution_count": 36,
     "metadata": {},
     "output_type": "execute_result"
    }
   ],
   "source": [
    "# look at the correlation values between independent variables, and grab the correlation column that compares the variables to our target taxvaluedollarcnt.\n",
    "\n",
    "train_scaled.corr()\n",
    "train_scaled.corr().taxvaluedollarcnt\n"
   ]
  },
  {
   "cell_type": "code",
   "execution_count": 37,
   "metadata": {},
   "outputs": [
    {
     "data": {
      "image/png": "[encoded data removed]",
      "text/plain": [
       "<Figure size 900x900 with 30 Axes>"
      ]
     },
     "metadata": {
      "needs_background": "light"
     },
     "output_type": "display_data"
    }
   ],
   "source": [
    "# Look at the correlation of a variables with sns.PairGrid\n",
    "\n",
    "g = sns.PairGrid(train_scaled, palette = 'reds')\n",
    "g.map_diag(plt.hist)\n",
    "g.map_offdiag(plt.scatter);\n"
   ]
  },
  {
   "cell_type": "code",
   "execution_count": 38,
   "metadata": {},
   "outputs": [
    {
     "data": {
      "text/plain": [
       "<matplotlib.axes._subplots.AxesSubplot at 0x1c230997f0>"
      ]
     },
     "execution_count": 38,
     "metadata": {},
     "output_type": "execute_result"
    },
    {
     "data": {
      "image/png": "[encoded data removed]",
      "text/plain": [
       "<Figure size 576x432 with 2 Axes>"
      ]
     },
     "metadata": {
      "needs_background": "light"
     },
     "output_type": "display_data"
    }
   ],
   "source": [
    "# Look at the correlation of variables with sns.heatmap \n",
    "\n",
    "plt.figure(figsize = (8,6))\n",
    "sns.heatmap(train.corr(), cmap = 'Blues', annot = True )\n"
   ]
  },
  {
   "cell_type": "markdown",
   "metadata": {},
   "source": [
    " T test - Is the average taxvaluedollarcnt different for one bedroom vs. three bedrooms?\n",
    " \n",
    " H[0]: The average taxvaluedollarcount of properties with one bedroom or three bedrooms is the same\n"
   ]
  },
  {
   "cell_type": "code",
   "execution_count": 39,
   "metadata": {},
   "outputs": [],
   "source": [
    "# We'll need to create two seperate datasets that contain the values for taxvaluedollarcnt for properties with one bedroom and properties with two bedrooms\n",
    "\n",
    "bedrooms_1 = train_scaled[train_scaled['bedroomcnt'] == 1]\n",
    "bedrooms_3 = train_scaled[train_scaled['bedroomcnt'] == 3]\n",
    "test_results = ttest_ind(bedrooms_1.taxvaluedollarcnt, bedrooms_3.taxvaluedollarcnt)\n"
   ]
  },
  {
   "cell_type": "code",
   "execution_count": 40,
   "metadata": {},
   "outputs": [
    {
     "data": {
      "text/plain": [
       "2.475501727520048"
      ]
     },
     "execution_count": 40,
     "metadata": {},
     "output_type": "execute_result"
    }
   ],
   "source": [
    "# Because the p value is so small, we reject the null hypothesis. We think there is a significant difference in the average taxvaluedollarcnt of properties with 1 bedroom and properties with 3 bedrooms.\n",
    "# Let's look at those averages:\n",
    "\n",
    "bedrooms_1.taxvaluedollarcnt.mean()\n",
    "bedrooms_3.taxvaluedollarcnt.mean()\n"
   ]
  },
  {
   "cell_type": "markdown",
   "metadata": {},
   "source": [
    "T Test - Is the average taxvaluedollarncnt different for one bathroom vs. three bathroom properties?\n",
    "\n",
    "H[0]: The average taxvaluedollarcnt of properties with one bathroom or three bathrooms is the same."
   ]
  },
  {
   "cell_type": "code",
   "execution_count": 41,
   "metadata": {},
   "outputs": [],
   "source": [
    "bathrooms_1 = train_scaled[train_scaled['bathroomcnt'] == 1]\n",
    "bathrooms_3 = train_scaled[train_scaled['bathroomcnt'] == 3]\n",
    "test_results = ttest_ind(bathrooms_1.taxvaluedollarcnt, bathrooms_3.taxvaluedollarcnt)\n"
   ]
  },
  {
   "cell_type": "code",
   "execution_count": 42,
   "metadata": {},
   "outputs": [
    {
     "data": {
      "text/plain": [
       "3.378091415420285"
      ]
     },
     "execution_count": 42,
     "metadata": {},
     "output_type": "execute_result"
    }
   ],
   "source": [
    "# Because the p value is so small, we reject the null hypothesis. We think there is a significant difference in the average taxvaluedollarcnt of properties with 1 bathroom and properties with 3 bedrooms.\n",
    "# Let's look at those averages:\n",
    "\n",
    "bathrooms_1.taxvaluedollarcnt.mean()\n",
    "bathrooms_3.taxvaluedollarcnt.mean()\n"
   ]
  },
  {
   "cell_type": "markdown",
   "metadata": {},
   "source": [
    "\n",
    "Pearson R - Are bathrooms and bedrooms linearly correlated, and what is the strength of that correlation?\n",
    "H[0]: There is not a linear correlation between number of bathrooms and number of bedrooms for a property.\n"
   ]
  },
  {
   "cell_type": "code",
   "execution_count": 43,
   "metadata": {},
   "outputs": [],
   "source": [
    "# We can pass the two series that contain the values we are looking at to the pearsonr function from scipy's stats module.\n",
    "\n",
    "test_results_pearsonr = pearsonr(train_scaled.bathroomcnt, train_scaled.bedroomcnt)\n"
   ]
  },
  {
   "cell_type": "markdown",
   "metadata": {},
   "source": [
    "Because pearsonr is 0.0 we reject the null hypothesis that there is no linear relationship. The test also tells us the r^2 value of .645"
   ]
  },
  {
   "cell_type": "markdown",
   "metadata": {},
   "source": [
    "Pearson R - Are bathrooms and calculatedfinished square feet linearly correlated, and what is the strength of that correlation?\n",
    "\n",
    "H[0]: There is not a linear correlation between number of bathrooms and calculatedfinished sqaure feet for a property."
   ]
  },
  {
   "cell_type": "code",
   "execution_count": 44,
   "metadata": {},
   "outputs": [],
   "source": [
    "# We can pass the two series that contain the values we are looking at to the pearsonr function from scipy's stats module.\n",
    "\n",
    "test_results_pearsonr = pearsonr(train_scaled.bathroomcnt, train_scaled.calculatedfinishedsquarefeet)\n"
   ]
  },
  {
   "cell_type": "markdown",
   "metadata": {},
   "source": [
    "because pearsonr is 0.0 we reject the null hypothesis that there is no linear relationship. The test also tells us the r ^2 value of .852 that this the strength of the relationship.\n",
    "\n"
   ]
  },
  {
   "cell_type": "markdown",
   "metadata": {},
   "source": [
    "Take aways from exploration:\n",
    "Calculated finished square feet is the most correlated to our dependent (target variable) taxvaluedollarcnt. From our hypothesis that our presumption that calculated finished square feet will influence taxvalue dollar count in a positive direction (overall taxvaluedollarcnt increases when calculated finished squarefeet increases)\n",
    "\n",
    "We see that calculated finished square feet correlates with both bedroom, and bathroom count. This makes sense because the amount of liveable square fee will drive the amount of bedrooms, and bathrooms on a property. This finding is going to influence the feature selection. It gives the direction that you could combine bedroom, and bathroom count into one feature. Then use this combined room count feature in the selection process. \n",
    "\n",
    "Don't like that independent variables are correlated with each other so in feature selection process and modeling would want to see which of those give us better prediction values."
   ]
  },
  {
   "cell_type": "markdown",
   "metadata": {},
   "source": [
    "*** Feature Selection ***\n",
    "\n",
    "Goal: Create a dataframe(s) with the features to be used to build your model."
   ]
  },
  {
   "cell_type": "code",
   "execution_count": 45,
   "metadata": {},
   "outputs": [
    {
     "data": {
      "text/plain": [
       "(4, 0.38561254725371386)"
      ]
     },
     "execution_count": 45,
     "metadata": {},
     "output_type": "execute_result"
    }
   ],
   "source": [
    "# Perform feature selection using RFE. Use features.py file function optimal_number_of_features to perform recursive feature elimination that will tell us the number of features to use to predict our target variable\n",
    "\n",
    "number_of_features, score = features.optimal_number_of_features(X_train_scaled, y_train_scaled)\n",
    "number_of_features, score\n"
   ]
  },
  {
   "cell_type": "code",
   "execution_count": 46,
   "metadata": {},
   "outputs": [
    {
     "data": {
      "text/plain": [
       "Index(['bathroomcnt', 'bedroomcnt', 'calculatedfinishedsquarefeet',\n",
       "       'lotsizesquarefeet'],\n",
       "      dtype='object')"
      ]
     },
     "execution_count": 46,
     "metadata": {},
     "output_type": "execute_result"
    }
   ],
   "source": [
    "# Use recursive feature elimination. Use features.py file function optimal features to find out which features should be used\n",
    "\n",
    "selected_features_rfe, X_train_rfe, X_test_rfe = features.optimal_features(X_train_scaled, X_test_scaled, y_train_scaled, number_of_features)\n",
    "selected_features_rfe\n"
   ]
  },
  {
   "cell_type": "markdown",
   "metadata": {},
   "source": [
    "*** Modeling & Evaluation ***\n",
    "Goal: develop a regression model that performs better than using overall average taxvaluedollarcnt as a baseline."
   ]
  },
  {
   "cell_type": "code",
   "execution_count": 47,
   "metadata": {},
   "outputs": [],
   "source": [
    "# Create prediction dataframes for train and test data. Use model.py function modeling_function to create linear model_1, and compare to baseline prediction of mean taxvaluedollarcnt.\n",
    "predictions_train, predictions_test = model.modeling_function(X_train_scaled, X_test_scaled, y_train_scaled, y_test_scaled)\n"
   ]
  },
  {
   "cell_type": "code",
   "execution_count": 48,
   "metadata": {},
   "outputs": [
    {
     "data": {
      "text/html": [
       "<div>\n",
       "<style scoped>\n",
       "    .dataframe tbody tr th:only-of-type {\n",
       "        vertical-align: middle;\n",
       "    }\n",
       "\n",
       "    .dataframe tbody tr th {\n",
       "        vertical-align: top;\n",
       "    }\n",
       "\n",
       "    .dataframe thead th {\n",
       "        text-align: right;\n",
       "    }\n",
       "</style>\n",
       "<table border=\"1\" class=\"dataframe\">\n",
       "  <thead>\n",
       "    <tr style=\"text-align: right;\">\n",
       "      <th></th>\n",
       "      <th>actual</th>\n",
       "      <th>lm1</th>\n",
       "      <th>baseline</th>\n",
       "    </tr>\n",
       "  </thead>\n",
       "  <tbody>\n",
       "    <tr>\n",
       "      <th>0</th>\n",
       "      <td>1.116738</td>\n",
       "      <td>0.091649</td>\n",
       "      <td>0.346554</td>\n",
       "    </tr>\n",
       "    <tr>\n",
       "      <th>1</th>\n",
       "      <td>0.685457</td>\n",
       "      <td>1.430190</td>\n",
       "      <td>0.346554</td>\n",
       "    </tr>\n",
       "    <tr>\n",
       "      <th>2</th>\n",
       "      <td>0.131194</td>\n",
       "      <td>-0.302283</td>\n",
       "      <td>0.346554</td>\n",
       "    </tr>\n",
       "    <tr>\n",
       "      <th>3</th>\n",
       "      <td>-0.590122</td>\n",
       "      <td>-0.239296</td>\n",
       "      <td>0.346554</td>\n",
       "    </tr>\n",
       "    <tr>\n",
       "      <th>4</th>\n",
       "      <td>1.388001</td>\n",
       "      <td>1.701819</td>\n",
       "      <td>0.346554</td>\n",
       "    </tr>\n",
       "  </tbody>\n",
       "</table>\n",
       "</div>"
      ],
      "text/plain": [
       "     actual       lm1  baseline\n",
       "0  1.116738  0.091649  0.346554\n",
       "1  0.685457  1.430190  0.346554\n",
       "2  0.131194 -0.302283  0.346554\n",
       "3 -0.590122 -0.239296  0.346554\n",
       "4  1.388001  1.701819  0.346554"
      ]
     },
     "execution_count": 48,
     "metadata": {},
     "output_type": "execute_result"
    }
   ],
   "source": [
    "predictions_train.head()\n"
   ]
  },
  {
   "cell_type": "code",
   "execution_count": 49,
   "metadata": {},
   "outputs": [
    {
     "data": {
      "text/html": [
       "<div>\n",
       "<style scoped>\n",
       "    .dataframe tbody tr th:only-of-type {\n",
       "        vertical-align: middle;\n",
       "    }\n",
       "\n",
       "    .dataframe tbody tr th {\n",
       "        vertical-align: top;\n",
       "    }\n",
       "\n",
       "    .dataframe thead th {\n",
       "        text-align: right;\n",
       "    }\n",
       "</style>\n",
       "<table border=\"1\" class=\"dataframe\">\n",
       "  <thead>\n",
       "    <tr style=\"text-align: right;\">\n",
       "      <th></th>\n",
       "      <th>actual</th>\n",
       "      <th>lm2</th>\n",
       "      <th>baseline</th>\n",
       "    </tr>\n",
       "  </thead>\n",
       "  <tbody>\n",
       "    <tr>\n",
       "      <th>0</th>\n",
       "      <td>-0.716343</td>\n",
       "      <td>-0.674608</td>\n",
       "      <td>0.351353</td>\n",
       "    </tr>\n",
       "    <tr>\n",
       "      <th>1</th>\n",
       "      <td>0.086451</td>\n",
       "      <td>1.071122</td>\n",
       "      <td>0.351353</td>\n",
       "    </tr>\n",
       "    <tr>\n",
       "      <th>2</th>\n",
       "      <td>-0.421972</td>\n",
       "      <td>-0.686982</td>\n",
       "      <td>0.351353</td>\n",
       "    </tr>\n",
       "    <tr>\n",
       "      <th>3</th>\n",
       "      <td>-0.182887</td>\n",
       "      <td>-0.285228</td>\n",
       "      <td>0.351353</td>\n",
       "    </tr>\n",
       "    <tr>\n",
       "      <th>4</th>\n",
       "      <td>1.402376</td>\n",
       "      <td>2.504842</td>\n",
       "      <td>0.351353</td>\n",
       "    </tr>\n",
       "  </tbody>\n",
       "</table>\n",
       "</div>"
      ],
      "text/plain": [
       "     actual       lm2  baseline\n",
       "0 -0.716343 -0.674608  0.351353\n",
       "1  0.086451  1.071122  0.351353\n",
       "2 -0.421972 -0.686982  0.351353\n",
       "3 -0.182887 -0.285228  0.351353\n",
       "4  1.402376  2.504842  0.351353"
      ]
     },
     "execution_count": 49,
     "metadata": {},
     "output_type": "execute_result"
    }
   ],
   "source": [
    "predictions_test.head()\n"
   ]
  },
  {
   "cell_type": "markdown",
   "metadata": {},
   "source": [
    "Create residual plots for independent variables vs. target variable lotsizesquarefeet"
   ]
  },
  {
   "cell_type": "code",
   "execution_count": 50,
   "metadata": {},
   "outputs": [],
   "source": [
    "x1 = X_train_scaled[['calculatedfinishedsquarefeet']]\n",
    "x2 = X_train_scaled[['bedroomcnt']]\n",
    "x3 = X_train_scaled[['bathroomcnt']]\n",
    "x4 = X_train_scaled[['lotsizesquarefeet']]"
   ]
  },
  {
   "cell_type": "code",
   "execution_count": 51,
   "metadata": {},
   "outputs": [],
   "source": [
    "y = y_train_scaled[['taxvaluedollarcnt']]\n"
   ]
  },
  {
   "cell_type": "code",
   "execution_count": 52,
   "metadata": {},
   "outputs": [
    {
     "data": {
      "text/plain": [
       "<matplotlib.axes._subplots.AxesSubplot at 0x1c2382a5c0>"
      ]
     },
     "execution_count": 52,
     "metadata": {},
     "output_type": "execute_result"
    },
    {
     "data": {
      "image/png": "[encoded data removed]",
      "text/plain": [
       "<Figure size 432x288 with 1 Axes>"
      ]
     },
     "metadata": {
      "needs_background": "light"
     },
     "output_type": "display_data"
    }
   ],
   "source": [
    "model.plot_residuals(x1,y)\n",
    "model.plot_residuals(x2,y)\n",
    "model.plot_residuals(x3,y)\n",
    "#model.plot_residuals(x4,y)\n",
    "#plt.xscale('log')\n",
    "#plt.xlim(-100,400)"
   ]
  },
  {
   "cell_type": "markdown",
   "metadata": {},
   "source": [
    "Plot residual of baseline - predicted value is the average taxvaluedollarcnt."
   ]
  },
  {
   "cell_type": "code",
   "execution_count": 53,
   "metadata": {},
   "outputs": [
    {
     "data": {
      "image/png": "[encoded data removed]",
      "text/plain": [
       "<Figure size 576x432 with 1 Axes>"
      ]
     },
     "metadata": {
      "needs_background": "light"
     },
     "output_type": "display_data"
    }
   ],
   "source": [
    "model.plot_regression(x1,y)"
   ]
  },
  {
   "cell_type": "markdown",
   "metadata": {},
   "source": [
    "OLS Summary"
   ]
  },
  {
   "cell_type": "code",
   "execution_count": 54,
   "metadata": {},
   "outputs": [],
   "source": [
    "X = X_train_scaled\n",
    "y = y_train_scaled"
   ]
  },
  {
   "cell_type": "code",
   "execution_count": 55,
   "metadata": {},
   "outputs": [],
   "source": [
    "X = sm.add_constant(X)"
   ]
  },
  {
   "cell_type": "code",
   "execution_count": 56,
   "metadata": {},
   "outputs": [],
   "source": [
    "est = sm.OLS(y,X).fit()"
   ]
  },
  {
   "cell_type": "code",
   "execution_count": 57,
   "metadata": {},
   "outputs": [
    {
     "data": {
      "text/html": [
       "<table class=\"simpletable\">\n",
       "<caption>OLS Regression Results</caption>\n",
       "<tr>\n",
       "  <th>Dep. Variable:</th>    <td>taxvaluedollarcnt</td> <th>  R-squared:         </th> <td>   0.386</td> \n",
       "</tr>\n",
       "<tr>\n",
       "  <th>Model:</th>                   <td>OLS</td>        <th>  Adj. R-squared:    </th> <td>   0.385</td> \n",
       "</tr>\n",
       "<tr>\n",
       "  <th>Method:</th>             <td>Least Squares</td>   <th>  F-statistic:       </th> <td>   1871.</td> \n",
       "</tr>\n",
       "<tr>\n",
       "  <th>Date:</th>             <td>Mon, 21 Oct 2019</td>  <th>  Prob (F-statistic):</th>  <td>  0.00</td>  \n",
       "</tr>\n",
       "<tr>\n",
       "  <th>Time:</th>                 <td>12:43:02</td>      <th>  Log-Likelihood:    </th> <td> -19664.</td> \n",
       "</tr>\n",
       "<tr>\n",
       "  <th>No. Observations:</th>      <td> 11929</td>       <th>  AIC:               </th> <td>3.934e+04</td>\n",
       "</tr>\n",
       "<tr>\n",
       "  <th>Df Residuals:</th>          <td> 11924</td>       <th>  BIC:               </th> <td>3.937e+04</td>\n",
       "</tr>\n",
       "<tr>\n",
       "  <th>Df Model:</th>              <td>     4</td>       <th>                     </th>     <td> </td>    \n",
       "</tr>\n",
       "<tr>\n",
       "  <th>Covariance Type:</th>      <td>nonrobust</td>     <th>                     </th>     <td> </td>    \n",
       "</tr>\n",
       "</table>\n",
       "<table class=\"simpletable\">\n",
       "<tr>\n",
       "                <td></td>                  <th>coef</th>     <th>std err</th>      <th>t</th>      <th>P>|t|</th>  <th>[0.025</th>    <th>0.975]</th>  \n",
       "</tr>\n",
       "<tr>\n",
       "  <th>const</th>                        <td>    0.1303</td> <td>    0.012</td> <td>   10.595</td> <td> 0.000</td> <td>    0.106</td> <td>    0.154</td>\n",
       "</tr>\n",
       "<tr>\n",
       "  <th>bathroomcnt</th>                  <td>    0.1150</td> <td>    0.022</td> <td>    5.112</td> <td> 0.000</td> <td>    0.071</td> <td>    0.159</td>\n",
       "</tr>\n",
       "<tr>\n",
       "  <th>bedroomcnt</th>                   <td>   -0.3194</td> <td>    0.017</td> <td>  -19.259</td> <td> 0.000</td> <td>   -0.352</td> <td>   -0.287</td>\n",
       "</tr>\n",
       "<tr>\n",
       "  <th>calculatedfinishedsquarefeet</th> <td>    1.1328</td> <td>    0.024</td> <td>   46.700</td> <td> 0.000</td> <td>    1.085</td> <td>    1.180</td>\n",
       "</tr>\n",
       "<tr>\n",
       "  <th>lotsizesquarefeet</th>            <td>   -0.0007</td> <td>    0.001</td> <td>   -0.520</td> <td> 0.603</td> <td>   -0.003</td> <td>    0.002</td>\n",
       "</tr>\n",
       "</table>\n",
       "<table class=\"simpletable\">\n",
       "<tr>\n",
       "  <th>Omnibus:</th>       <td>19069.897</td> <th>  Durbin-Watson:     </th>   <td>   2.038</td>  \n",
       "</tr>\n",
       "<tr>\n",
       "  <th>Prob(Omnibus):</th>  <td> 0.000</td>   <th>  Jarque-Bera (JB):  </th> <td>30220453.163</td>\n",
       "</tr>\n",
       "<tr>\n",
       "  <th>Skew:</th>           <td>10.022</td>   <th>  Prob(JB):          </th>   <td>    0.00</td>  \n",
       "</tr>\n",
       "<tr>\n",
       "  <th>Kurtosis:</th>       <td>248.762</td>  <th>  Cond. No.          </th>   <td>    24.6</td>  \n",
       "</tr>\n",
       "</table><br/><br/>Warnings:<br/>[1] Standard Errors assume that the covariance matrix of the errors is correctly specified."
      ],
      "text/plain": [
       "<class 'statsmodels.iolib.summary.Summary'>\n",
       "\"\"\"\n",
       "                            OLS Regression Results                            \n",
       "==============================================================================\n",
       "Dep. Variable:      taxvaluedollarcnt   R-squared:                       0.386\n",
       "Model:                            OLS   Adj. R-squared:                  0.385\n",
       "Method:                 Least Squares   F-statistic:                     1871.\n",
       "Date:                Mon, 21 Oct 2019   Prob (F-statistic):               0.00\n",
       "Time:                        12:43:02   Log-Likelihood:                -19664.\n",
       "No. Observations:               11929   AIC:                         3.934e+04\n",
       "Df Residuals:                   11924   BIC:                         3.937e+04\n",
       "Df Model:                           4                                         \n",
       "Covariance Type:            nonrobust                                         \n",
       "================================================================================================\n",
       "                                   coef    std err          t      P>|t|      [0.025      0.975]\n",
       "------------------------------------------------------------------------------------------------\n",
       "const                            0.1303      0.012     10.595      0.000       0.106       0.154\n",
       "bathroomcnt                      0.1150      0.022      5.112      0.000       0.071       0.159\n",
       "bedroomcnt                      -0.3194      0.017    -19.259      0.000      -0.352      -0.287\n",
       "calculatedfinishedsquarefeet     1.1328      0.024     46.700      0.000       1.085       1.180\n",
       "lotsizesquarefeet               -0.0007      0.001     -0.520      0.603      -0.003       0.002\n",
       "==============================================================================\n",
       "Omnibus:                    19069.897   Durbin-Watson:                   2.038\n",
       "Prob(Omnibus):                  0.000   Jarque-Bera (JB):         30220453.163\n",
       "Skew:                          10.022   Prob(JB):                         0.00\n",
       "Kurtosis:                     248.762   Cond. No.                         24.6\n",
       "==============================================================================\n",
       "\n",
       "Warnings:\n",
       "[1] Standard Errors assume that the covariance matrix of the errors is correctly specified.\n",
       "\"\"\""
      ]
     },
     "execution_count": 57,
     "metadata": {},
     "output_type": "execute_result"
    }
   ],
   "source": [
    "est.summary()"
   ]
  },
  {
   "cell_type": "markdown",
   "metadata": {},
   "source": [
    "Conclusion:\n",
    "\n",
    "From the ols model our baseline of average property value did worse than our prediction model using features of bedroomcnt, bathroomcnt, calculatedfinished square feet, and lotsize. We can make this conclusion because our R^2 value is .38, and our values p-values for a a variables are significant. We can reject the null hypothesis that a model of average values will be the same as model without our features.\n",
    "\n",
    "Going forward in this project I would suggest to look at property locations, you can begin to do this by grouping by the fips values of properties"
   ]
  },
  {
   "cell_type": "code",
   "execution_count": null,
   "metadata": {},
   "outputs": [],
   "source": []
  }
 ],
 "metadata": {
  "file_extension": ".py",
  "kernelspec": {
   "display_name": "Python 3",
   "language": "python",
   "name": "python3"
  },
  "language_info": {
   "codemirror_mode": {
    "name": "ipython",
    "version": 3
   },
   "file_extension": ".py",
   "mimetype": "text/x-python",
   "name": "python",
   "nbconvert_exporter": "python",
   "pygments_lexer": "ipython3",
   "version": "3.7.3"
  },
  "mimetype": "text/x-python",
  "name": "python",
  "npconvert_exporter": "python",
  "pygments_lexer": "ipython3",
  "version": 3
 },
 "nbformat": 4,
 "nbformat_minor": 2
}
