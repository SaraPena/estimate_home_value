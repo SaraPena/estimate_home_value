{
 "cells": [
  {
   "cell_type": "markdown",
   "metadata": {},
   "source": [
    "# Tax distributions\n",
    "\n",
    "Describe distributions of tax rates in each county. Tax rates were calculated by taking taxamount/taxvaluedollaramount from the Zillow SQL database"
   ]
  },
  {
   "cell_type": "code",
   "execution_count": 14,
   "metadata": {},
   "outputs": [],
   "source": [
    "import env\n",
    "import wrangle\n",
    "import pandas as pd \n",
    "import numpy as np\n",
    "import seaborn as sns\n",
    "sns.set_style('whitegrid') # doing my work in dark background\n",
    "import matplotlib.pyplot as plt\n",
    "%matplotlib inline\n",
    "from scipy.stats import norm\n"
   ]
  },
  {
   "cell_type": "code",
   "execution_count": 4,
   "metadata": {},
   "outputs": [],
   "source": [
    "url = wrangle.get_db_url('zillow')\n"
   ]
  },
  {
   "cell_type": "markdown",
   "metadata": {},
   "source": [
    "#### Create tax rate distributions. Tax distribution rate for fips = 6037"
   ]
  },
  {
   "cell_type": "code",
   "execution_count": 8,
   "metadata": {},
   "outputs": [],
   "source": [
    "query_6037 = \"\"\"SELECT taxamount/taxvaluedollarcnt as tax_rate_6037, fips\n",
    "           FROM properties_2017\n",
    "           JOIN predictions_2017 using(parcelid)\n",
    "           WHERE (propertylandusetypeid = 261) and (transactiondate BETWEEN '2017-05-01' and '2017-06-30') and fips = 6037\"\"\"\n",
    "\n",
    "df = pd.read_sql(query_6037,url)\n",
    "df = df.dropna()\n"
   ]
  },
  {
   "cell_type": "code",
   "execution_count": 10,
   "metadata": {},
   "outputs": [
    {
     "data": {
      "text/plain": [
       "count    9629.000000\n",
       "mean        0.014173\n",
       "std         0.007660\n",
       "min         0.001071\n",
       "25%         0.012121\n",
       "50%         0.012635\n",
       "75%         0.014401\n",
       "max         0.452884\n",
       "Name: tax_rate_6037, dtype: float64"
      ]
     },
     "execution_count": 10,
     "metadata": {},
     "output_type": "execute_result"
    }
   ],
   "source": [
    "df.tax_rate_6037.value_counts(bins = 50) \n",
    "df.tax_rate_6037.value_counts().idxmax()\n",
    "df.tax_rate_6037.describe() "
   ]
  },
  {
   "cell_type": "code",
   "execution_count": 16,
   "metadata": {},
   "outputs": [
    {
     "data": {
      "text/plain": [
       "count    9629.000000\n",
       "mean        0.014173\n",
       "std         0.007660\n",
       "min         0.001071\n",
       "25%         0.012121\n",
       "50%         0.012635\n",
       "75%         0.014401\n",
       "max         0.452884\n",
       "Name: tax_rate_6037, dtype: float64"
      ]
     },
     "execution_count": 16,
     "metadata": {},
     "output_type": "execute_result"
    },
    {
     "data": {
      "image/png": "[encoded data removed]",
      "text/plain": [
       "<Figure size 432x288 with 1 Axes>"
      ]
     },
     "metadata": {
      "needs_background": "light"
     },
     "output_type": "display_data"
    }
   ],
   "source": [
    "sns.distplot(df.tax_rate_6037, bins = 50, color = 'Red')\n",
    "plt.xlim(0,0.04)\n",
    "plt.ylabel('count')\n",
    "plt.title('2017 Tax Distribution for Los Angeles County')\n",
    "\n",
    "df.tax_rate_6037.describe() "
   ]
  },
  {
   "cell_type": "markdown",
   "metadata": {},
   "source": [
    "#### Tax distribution rate for fips = 6059"
   ]
  },
  {
   "cell_type": "code",
   "execution_count": 17,
   "metadata": {},
   "outputs": [],
   "source": [
    "query_6059 = \"\"\" SELECT taxamount/taxvaluedollarcnt as tax_rate_6059\n",
    "from properties_2017\n",
    "JOIN predictions_2017 using(parcelid)\n",
    "WHERE (propertylandusetypeid = 261) and (transactiondate BETWEEN '2017-05-01' and '2017-06-30') and fips = 6059\"\"\"\n",
    "\n",
    "df = pd.read_sql(query_6059,url)\n"
   ]
  },
  {
   "cell_type": "code",
   "execution_count": 21,
   "metadata": {},
   "outputs": [
    {
     "data": {
      "text/plain": [
       "count    4109.000000\n",
       "mean        0.012121\n",
       "std         0.003218\n",
       "min         0.001712\n",
       "25%         0.010616\n",
       "50%         0.011524\n",
       "75%         0.012529\n",
       "max         0.107350\n",
       "Name: tax_rate_6059, dtype: float64"
      ]
     },
     "execution_count": 21,
     "metadata": {},
     "output_type": "execute_result"
    },
    {
     "data": {
      "image/png": "[encoded data removed]",
      "text/plain": [
       "<Figure size 432x288 with 1 Axes>"
      ]
     },
     "metadata": {
      "needs_background": "light"
     },
     "output_type": "display_data"
    }
   ],
   "source": [
    "sns.distplot(df.tax_rate_6059, color = 'Blue')\n",
    "plt.xlim(0,0.04)\n",
    "\n",
    "plt.ylabel('count')\n",
    "plt.title('2017 Tax Distribution for Orange County')\n",
    "\n",
    "df.tax_rate_6059.describe() \n"
   ]
  },
  {
   "cell_type": "markdown",
   "metadata": {},
   "source": [
    "#### Tax distribution rate for fips = 6059"
   ]
  },
  {
   "cell_type": "code",
   "execution_count": 24,
   "metadata": {},
   "outputs": [],
   "source": [
    "query_6111 = \"\"\"SELECT taxamount/taxvaluedollarcnt as tax_rate_6111\n",
    "                From properties_2017\n",
    "                JOIN predictions_2017 using(parcelid)\n",
    "                WHERE (propertylandusetypeid = 261) and (transactiondate BETWEEN '2017-05-01' and '2017-06-30') and fips = 6111\"\"\"\n",
    "\n",
    "df = pd.read_sql(query_6111,url)"
   ]
  },
  {
   "cell_type": "code",
   "execution_count": 27,
   "metadata": {},
   "outputs": [
    {
     "data": {
      "text/html": [
       "<div>\n",
       "<style scoped>\n",
       "    .dataframe tbody tr th:only-of-type {\n",
       "        vertical-align: middle;\n",
       "    }\n",
       "\n",
       "    .dataframe tbody tr th {\n",
       "        vertical-align: top;\n",
       "    }\n",
       "\n",
       "    .dataframe thead th {\n",
       "        text-align: right;\n",
       "    }\n",
       "</style>\n",
       "<table border=\"1\" class=\"dataframe\">\n",
       "  <thead>\n",
       "    <tr style=\"text-align: right;\">\n",
       "      <th></th>\n",
       "      <th>tax_rate_6111</th>\n",
       "    </tr>\n",
       "  </thead>\n",
       "  <tbody>\n",
       "    <tr>\n",
       "      <th>count</th>\n",
       "      <td>1297.000000</td>\n",
       "    </tr>\n",
       "    <tr>\n",
       "      <th>mean</th>\n",
       "      <td>0.012051</td>\n",
       "    </tr>\n",
       "    <tr>\n",
       "      <th>std</th>\n",
       "      <td>0.008269</td>\n",
       "    </tr>\n",
       "    <tr>\n",
       "      <th>min</th>\n",
       "      <td>0.000787</td>\n",
       "    </tr>\n",
       "    <tr>\n",
       "      <th>25%</th>\n",
       "      <td>0.010740</td>\n",
       "    </tr>\n",
       "    <tr>\n",
       "      <th>50%</th>\n",
       "      <td>0.011249</td>\n",
       "    </tr>\n",
       "    <tr>\n",
       "      <th>75%</th>\n",
       "      <td>0.011925</td>\n",
       "    </tr>\n",
       "    <tr>\n",
       "      <th>max</th>\n",
       "      <td>0.294865</td>\n",
       "    </tr>\n",
       "  </tbody>\n",
       "</table>\n",
       "</div>"
      ],
      "text/plain": [
       "       tax_rate_6111\n",
       "count    1297.000000\n",
       "mean        0.012051\n",
       "std         0.008269\n",
       "min         0.000787\n",
       "25%         0.010740\n",
       "50%         0.011249\n",
       "75%         0.011925\n",
       "max         0.294865"
      ]
     },
     "execution_count": 27,
     "metadata": {},
     "output_type": "execute_result"
    },
    {
     "data": {
      "image/png": "[encoded data removed]",
      "text/plain": [
       "<Figure size 432x288 with 1 Axes>"
      ]
     },
     "metadata": {
      "needs_background": "light"
     },
     "output_type": "display_data"
    }
   ],
   "source": [
    "sns.distplot(df.tax_rate_6111, color = 'Green')\n",
    "plt.xlim(0,0.04)\n",
    "\n",
    "plt.ylabel('count')\n",
    "plt.title('2017 Tax Distribution for Ventura County')\n",
    "\n",
    "pd.DataFrame(df.tax_rate_6111.describe())\n",
    "\n"
   ]
  },
  {
   "cell_type": "code",
   "execution_count": null,
   "metadata": {},
   "outputs": [],
   "source": []
  }
 ],
 "metadata": {
  "file_extension": ".py",
  "kernelspec": {
   "display_name": "Python 3",
   "language": "python",
   "name": "python3"
  },
  "language_info": {
   "codemirror_mode": {
    "name": "ipython",
    "version": 3
   },
   "file_extension": ".py",
   "mimetype": "text/x-python",
   "name": "python",
   "nbconvert_exporter": "python",
   "pygments_lexer": "ipython3",
   "version": "3.7.3"
  },
  "mimetype": "text/x-python",
  "name": "python",
  "npconvert_exporter": "python",
  "pygments_lexer": "ipython3",
  "version": 3
 },
 "nbformat": 4,
 "nbformat_minor": 2
}
